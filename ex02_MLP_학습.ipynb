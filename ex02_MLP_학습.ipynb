{
  "cells": [
    {
      "cell_type": "markdown",
      "metadata": {
        "id": "view-in-github",
        "colab_type": "text"
      },
      "source": [
        "<a href=\"https://colab.research.google.com/github/cooooooky/DL/blob/main/ex02_MLP_%ED%95%99%EC%8A%B5.ipynb\" target=\"_parent\"><img src=\"https://colab.research.google.com/assets/colab-badge.svg\" alt=\"Open In Colab\"/></a>"
      ]
    },
    {
      "cell_type": "code",
      "execution_count": null,
      "id": "f21cacd6",
      "metadata": {
        "id": "f21cacd6"
      },
      "outputs": [],
      "source": [
        "import torch\n",
        "import torch.nn as nn\n",
        "import torch.optim as optim\n",
        "import torchvision.datasets as dset\n",
        "import torchvision.transforms as transforms\n",
        "from torch.utils.data import DataLoader\n",
        "from torch.autograd import Variable\n",
        "import matplotlib.pyplot as plt\n",
        "%matplotlib inline\n",
        "import numpy as np"
      ]
    },
    {
      "cell_type": "markdown",
      "id": "fad683a1",
      "metadata": {
        "id": "fad683a1"
      },
      "source": [
        "## 1. MNIST train, test dataset 가져오기"
      ]
    },
    {
      "cell_type": "code",
      "execution_count": null,
      "id": "b9670701",
      "metadata": {
        "id": "b9670701"
      },
      "outputs": [],
      "source": [
        "mnist_train=dset.MNIST(\"\", train=True, transform=transforms.ToTensor(), target_transform=None, download=True)\n",
        "mnist_test=dset.MNIST(\"\", train=False, transform=transforms.ToTensor(), target_transform=None, download=True)"
      ]
    },
    {
      "cell_type": "markdown",
      "id": "57354fbd",
      "metadata": {
        "id": "57354fbd"
      },
      "source": [
        "## 2. 대략적인 데이터 형태"
      ]
    },
    {
      "cell_type": "code",
      "execution_count": null,
      "id": "df8a8e5b",
      "metadata": {
        "colab": {
          "base_uri": "https://localhost:8080/",
          "height": 354
        },
        "id": "df8a8e5b",
        "outputId": "ae0b45ce-4ccc-473a-ea60-3899d323b962"
      },
      "outputs": [
        {
          "output_type": "stream",
          "name": "stdout",
          "text": [
            "mnist_train 길이: 60000\n",
            "mnist_test  길이: 10000\n",
            "image data 형태: torch.Size([1, 28, 28])\n",
            "label:  5\n"
          ]
        },
        {
          "output_type": "display_data",
          "data": {
            "text/plain": [
              "<Figure size 432x288 with 1 Axes>"
            ],
            "image/png": "[encoded data removed]"
          },
          "metadata": {
            "needs_background": "light"
          }
        }
      ],
      "source": [
        "print (\"mnist_train 길이:\", len(mnist_train))\n",
        "print (\"mnist_test  길이:\", len(mnist_test))\n",
        "\n",
        "# 데이터 하나 형태\n",
        "image, label = mnist_train.__getitem__(0) # 0번째 데이터\n",
        "print (\"image data 형태:\", image.size())\n",
        "print (\"label: \", label)\n",
        "\n",
        "# 그리기\n",
        "img = image.numpy() # image 타입을 numpy 로 변환 (1,28,28)\n",
        "plt.title(\"labelL %d\" %label)\n",
        "plt.imshow(img[0], cmap='gray')\n",
        "plt.show()"
      ]
    },
    {
      "cell_type": "markdown",
      "id": "a21de130",
      "metadata": {
        "id": "a21de130"
      },
      "source": [
        "## 3. 데이터 로드함수\n",
        "#### 학습시킬 때 batch_size 단위로 끊어서 로드하기 위함"
      ]
    },
    {
      "cell_type": "code",
      "execution_count": null,
      "id": "8839cd96",
      "metadata": {
        "id": "8839cd96"
      },
      "outputs": [],
      "source": [
        "# hyper parameters\n",
        "batch_size = 1024\n",
        "learning_rate = 0.01\n",
        "num_epoch = 400\n",
        "\n",
        "# mnist를 트레인 시키자. 결과를 일관적으로 확인할 필요가 있음->test data는 셔플 x. batch_size만큼 나눌 때 나머지는 버려라.\n",
        "train_loader = torch.utils.data.DataLoader(mnist_train, batch_size=batch_size, shuffle=True, num_workers=2, drop_last=True)\n",
        "test_loader = torch.utils.data.DataLoader(mnist_test, batch_size=batch_size, shuffle=False, num_workers=2, drop_last=True)"
      ]
    },
    {
      "cell_type": "markdown",
      "id": "f9a49664",
      "metadata": {
        "id": "f9a49664"
      },
      "source": [
        "### 데이터 로드함수 이해하기"
      ]
    },
    {
      "cell_type": "code",
      "execution_count": null,
      "id": "50c134b3",
      "metadata": {
        "colab": {
          "base_uri": "https://localhost:8080/",
          "height": 1000
        },
        "id": "50c134b3",
        "outputId": "9836a998-a28c-4433-8eeb-588be722a566"
      },
      "outputs": [
        {
          "output_type": "stream",
          "name": "stdout",
          "text": [
            "[0]\n",
            "한 번에 로드되는 데이터 크기: 1024\n"
          ]
        },
        {
          "output_type": "display_data",
          "data": {
            "text/plain": [
              "<Figure size 432x288 with 3 Axes>"
            ],
            "image/png": "[encoded data removed]"
          },
          "metadata": {
            "needs_background": "light"
          }
        },
        {
          "output_type": "stream",
          "name": "stdout",
          "text": [
            "[1]\n",
            "한 번에 로드되는 데이터 크기: 1024\n"
          ]
        },
        {
          "output_type": "display_data",
          "data": {
            "text/plain": [
              "<Figure size 432x288 with 3 Axes>"
            ],
            "image/png": "[encoded data removed]"
          },
          "metadata": {
            "needs_background": "light"
          }
        },
        {
          "output_type": "stream",
          "name": "stdout",
          "text": [
            "[2]\n",
            "한 번에 로드되는 데이터 크기: 1024\n"
          ]
        },
        {
          "output_type": "display_data",
          "data": {
            "text/plain": [
              "<Figure size 432x288 with 3 Axes>"
            ],
            "image/png": "[encoded data removed]"
          },
          "metadata": {
            "needs_background": "light"
          }
        },
        {
          "output_type": "stream",
          "name": "stdout",
          "text": [
            "[3]\n",
            "한 번에 로드되는 데이터 크기: 1024\n"
          ]
        },
        {
          "output_type": "display_data",
          "data": {
            "text/plain": [
              "<Figure size 432x288 with 3 Axes>"
            ],
            "image/png": "[encoded data removed]"
          },
          "metadata": {
            "needs_background": "light"
          }
        },
        {
          "output_type": "stream",
          "name": "stdout",
          "text": [
            "[4]\n",
            "한 번에 로드되는 데이터 크기: 1024\n"
          ]
        },
        {
          "output_type": "display_data",
          "data": {
            "text/plain": [
              "<Figure size 432x288 with 3 Axes>"
            ],
            "image/png": "[encoded data removed]"
          },
          "metadata": {
            "needs_background": "light"
          }
        },
        {
          "output_type": "stream",
          "name": "stdout",
          "text": [
            "[5]\n",
            "한 번에 로드되는 데이터 크기: 1024\n"
          ]
        },
        {
          "output_type": "display_data",
          "data": {
            "text/plain": [
              "<Figure size 432x288 with 3 Axes>"
            ],
            "image/png": "[encoded data removed]"
          },
          "metadata": {
            "needs_background": "light"
          }
        }
      ],
      "source": [
        "n=3 # 샘플로 그려볼 데이터 개수\n",
        "for i, [imgs, labels] in enumerate(test_loader): # batch_size 만큼\n",
        "    if i>5:\n",
        "        break\n",
        "    print (\"[%d]\" %i)\n",
        "    print (\"한 번에 로드되는 데이터 크기:\", len(imgs))\n",
        "    for j in range(n): # 그리기\n",
        "        img = imgs[j].numpy() # image 타입을 numpy로 변환\n",
        "        img = img.reshape((img.shape[1], img.shape[2])) # (1,28,28)->(28,28)\n",
        "        \n",
        "        plt.subplot(1, n, j+1) # (1,3) 형태 플랏의 j번째 자리에 그리겠다\n",
        "        plt.imshow(img, cmap='gray')\n",
        "        plt.title(\"label: %d\" %labels[j])\n",
        "    plt.show()"
      ]
    },
    {
      "cell_type": "markdown",
      "id": "07433431",
      "metadata": {
        "id": "07433431"
      },
      "source": [
        "## 4. 모델 선언"
      ]
    },
    {
      "cell_type": "code",
      "execution_count": null,
      "id": "179093b4",
      "metadata": {
        "id": "179093b4"
      },
      "outputs": [],
      "source": [
        "model = nn.Sequential( # 퍼셉트론(2 hidden layer)\n",
        "    nn.Linear(28*28, 256), nn.Sigmoid(), ##nn.ReLu(), nn.Sigmoid() 91.89%\n",
        "    nn.Linear(256,128),\n",
        "    nn.Linear(128,10),\n",
        ")\n",
        "\n",
        "#print(list(model.parameters())) # 초기 파라미터 출력\n",
        "model = model.cuda()"
      ]
    },
    {
      "cell_type": "markdown",
      "id": "9d1652c4",
      "metadata": {
        "id": "9d1652c4"
      },
      "source": [
        "### 정확도 계산 함수"
      ]
    },
    {
      "cell_type": "code",
      "execution_count": null,
      "id": "e5552e82",
      "metadata": {
        "id": "e5552e82"
      },
      "outputs": [],
      "source": [
        "def ComputeAccr(dloader, imodel):\n",
        "    correct = 0\n",
        "    total = 0\n",
        "    for j, [imgs, labels] in enumerate(dloader): # batch_size 만큼 (9번 반복)\n",
        "        img = imgs # x\n",
        "        label = Variable(labels).cuda() # y\n",
        "        \n",
        "        img = img.reshape((img.shape[0], img.shape[2], img.shape[3])) # (batch_size, 1, 28, 28)->(batch_size, 28, 28)\n",
        "        img = img.reshape((img.shape[0], img.shape[1]*img.shape[2])) # (batch_size, 28, 28) -> (batch_size, 28*28)\n",
        "        img = Variable(img, requires_grad=False).cuda() # https://dororongju.tistory.com/142\n",
        "        \n",
        "        output = imodel(img) # forward propagation\n",
        "        _, output_index = torch.max(output, 1)\n",
        "        \n",
        "        total += label.size(0) # 1024씩 9번 더함\n",
        "        correct += (output_index == label).sum().float()\n",
        "    print(\"Accuracy of Test Data: {}\".format(100*correct/total))"
      ]
    },
    {
      "cell_type": "code",
      "execution_count": null,
      "id": "6466e319",
      "metadata": {
        "colab": {
          "base_uri": "https://localhost:8080/"
        },
        "id": "6466e319",
        "outputId": "5443f608-c7a6-4aed-af33-2da1b20c9aca"
      },
      "outputs": [
        {
          "output_type": "stream",
          "name": "stdout",
          "text": [
            "Accuracy of Test Data: 10.188801765441895\n"
          ]
        }
      ],
      "source": [
        "ComputeAccr(test_loader, model)"
      ]
    },
    {
      "cell_type": "markdown",
      "id": "8bbcb97f",
      "metadata": {
        "id": "8bbcb97f"
      },
      "source": [
        "## 5. loss, optimizer"
      ]
    },
    {
      "cell_type": "code",
      "execution_count": null,
      "id": "d8d428f5",
      "metadata": {
        "id": "d8d428f5"
      },
      "outputs": [],
      "source": [
        "loss_func = nn.CrossEntropyLoss()\n",
        "optimizer = optim.SGD(model.parameters(), lr=learning_rate)"
      ]
    },
    {
      "cell_type": "markdown",
      "id": "d6bfc1a8",
      "metadata": {
        "id": "d6bfc1a8"
      },
      "source": [
        "## 6. 학습"
      ]
    },
    {
      "cell_type": "code",
      "execution_count": null,
      "id": "dd523467",
      "metadata": {
        "scrolled": true,
        "colab": {
          "base_uri": "https://localhost:8080/"
        },
        "id": "dd523467",
        "outputId": "1f1634d0-c4ab-4a5a-8c2a-d0d9adab0415"
      },
      "outputs": [
        {
          "output_type": "stream",
          "name": "stdout",
          "text": [
            "0..\n",
            "Accuracy of Test Data: 16.09157943725586\n",
            "tensor(2.2957, device='cuda:0', grad_fn=<NllLossBackward0>)\n",
            "50..\n",
            "Accuracy of Test Data: 81.42361450195312\n",
            "tensor(0.6496, device='cuda:0', grad_fn=<NllLossBackward0>)\n",
            "100..\n",
            "Accuracy of Test Data: 88.12934112548828\n",
            "tensor(0.4410, device='cuda:0', grad_fn=<NllLossBackward0>)\n",
            "150..\n",
            "Accuracy of Test Data: 89.68099212646484\n",
            "tensor(0.3681, device='cuda:0', grad_fn=<NllLossBackward0>)\n",
            "200..\n",
            "Accuracy of Test Data: 90.4296875\n",
            "tensor(0.3353, device='cuda:0', grad_fn=<NllLossBackward0>)\n",
            "250..\n",
            "Accuracy of Test Data: 91.06987762451172\n",
            "tensor(0.2885, device='cuda:0', grad_fn=<NllLossBackward0>)\n",
            "300..\n",
            "Accuracy of Test Data: 91.48220825195312\n",
            "tensor(0.3042, device='cuda:0', grad_fn=<NllLossBackward0>)\n",
            "350..\n",
            "Accuracy of Test Data: 91.796875\n",
            "tensor(0.3260, device='cuda:0', grad_fn=<NllLossBackward0>)\n"
          ]
        }
      ],
      "source": [
        "num_epoch = 400\n",
        "for i in range(num_epoch):\n",
        "    for j, [imgs, labels] in enumerate(train_loader): # batch_size 만큼\n",
        "        img = imgs # (batch_size, 1, 28, 28)\n",
        "        label = Variable(labels).cuda() # (batch_size)\n",
        "        \n",
        "        img = img.reshape((img.shape[0], img.shape[2], img.shape[3])) # (batch_size, 1, 28, 28)->(batch_size, 28, 28)\n",
        "        img = img.reshape((img.shape[0], img.shape[1]*img.shape[2])) # (batch_size, 28, 28) -> (batch_size, 28*28)\n",
        "        img = Variable(img, requires_grad=True).cuda() # 위 3줄은 정확도 계산 함수 부분과 동일. require_grad는 True.\n",
        "        \n",
        "        optimizer.zero_grad()\n",
        "        output = model(img) # forward prop.\n",
        "        loss = loss_func(output, label) # logit, target(1)\n",
        "        loss.backward() # back prop.\n",
        "        optimizer.step() # weight 업데이트\n",
        "        \n",
        "    if i%50==0:\n",
        "        print(\"%d..\" %i)\n",
        "        ComputeAccr(test_loader, model)\n",
        "        print(loss)"
      ]
    },
    {
      "cell_type": "markdown",
      "source": [
        "## 7. 테스트"
      ],
      "metadata": {
        "id": "xnOiLOT9jjTE"
      },
      "id": "xnOiLOT9jjTE"
    },
    {
      "cell_type": "code",
      "execution_count": null,
      "id": "6a505e75",
      "metadata": {
        "colab": {
          "base_uri": "https://localhost:8080/"
        },
        "id": "6a505e75",
        "outputId": "637b6f88-bb2a-4963-8a3d-3343e36d5fa2"
      },
      "outputs": [
        {
          "output_type": "stream",
          "name": "stdout",
          "text": [
            "Accuracy of Test Data: 91.98133850097656\n"
          ]
        }
      ],
      "source": [
        "ComputeAccr(test_loader, model)"
      ]
    },
    {
      "cell_type": "markdown",
      "source": [
        "## 8. 학습된 파라미터 저장"
      ],
      "metadata": {
        "id": "DkNu6g0Xji4X"
      },
      "id": "DkNu6g0Xji4X"
    },
    {
      "cell_type": "code",
      "source": [
        "from google.colab import drive\n",
        "drive.mount('/content/gdrive')"
      ],
      "metadata": {
        "colab": {
          "base_uri": "https://localhost:8080/"
        },
        "id": "Kup12U9llqWv",
        "outputId": "863aeae1-eb63-45bb-d024-dff4666a6bed"
      },
      "id": "Kup12U9llqWv",
      "execution_count": 57,
      "outputs": [
        {
          "output_type": "stream",
          "name": "stdout",
          "text": [
            "Mounted at /content/gdrive\n"
          ]
        }
      ]
    },
    {
      "cell_type": "code",
      "source": [
        "netname = '/content/gdrive/My Drive/Colab Notebooks/nets/mlp_weight.pkl'\n",
        "torch.save(model, netname, )"
      ],
      "metadata": {
        "id": "SLiCDdnsjhvQ"
      },
      "id": "SLiCDdnsjhvQ",
      "execution_count": 60,
      "outputs": []
    }
  ],
  "metadata": {
    "kernelspec": {
      "display_name": "conda_pytorch_p27",
      "language": "python",
      "name": "conda_pytorch_p27"
    },
    "language_info": {
      "codemirror_mode": {
        "name": "ipython",
        "version": 2
      },
      "file_extension": ".py",
      "mimetype": "text/x-python",
      "name": "python",
      "nbconvert_exporter": "python",
      "pygments_lexer": "ipython2",
      "version": "2.7.16"
    },
    "colab": {
      "name": "ex02. MLP 학습.ipynb",
      "provenance": [],
      "include_colab_link": true
    },
    "accelerator": "GPU"
  },
  "nbformat": 4,
  "nbformat_minor": 5
}